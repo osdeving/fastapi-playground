{
 "cells": [
  {
   "cell_type": "markdown",
   "id": "825a8667",
   "metadata": {},
   "source": [
    "\n",
    "# 🧠 String Interview Playbook — do básico ao avançado\n",
    "\n",
    "Este notebook reúne **problemas clássicos e alguns avançados de strings**, cada um com **3 versões**:\n",
    "\n",
    "- **Newbie**: direta, didática — às vezes menos eficiente.\n",
    "- **Fodona**: solução ótima/algorítmica (janela deslizante, DP, KMP, Manacher, etc.).\n",
    "- **Pythônica apelona**: usando o poder da linguagem (ex.: `Counter`, `sorted`, `re`) — *quando a entrevista permitir*.\n",
    "\n",
    "Para cada problema há **explicação**, **complexidade** e **perguntas típicas** de entrevista.\n"
   ]
  },
  {
   "cell_type": "code",
   "execution_count": null,
   "id": "f3de8624",
   "metadata": {},
   "outputs": [],
   "source": [
    "\n",
    "def run_tests(func, cases):\n",
    "    for i, (args, expected) in enumerate(cases, 1):\n",
    "        if not isinstance(args, tuple):\n",
    "            args = (args,)\n",
    "        got = func(*args)\n",
    "        assert got == expected, f\"case {i} failed: got={got}, expected={expected}, args={args}\"\n",
    "    \"✓ all tests passed\"\n"
   ]
  },
  {
   "cell_type": "markdown",
   "id": "ceab3e96",
   "metadata": {},
   "source": [
    "\n",
    "## 1) Reverter string\n",
    "\n",
    "**Tarefa**: dado `s`, retorne `s` invertida.\n",
    "\n",
    "**Discussão**  \n",
    "- Strings são imutáveis → converta para lista e troque extremidades.\n",
    "- Entrevistador pode pedir in-place: em `str` não dá; em `list` dá.\n",
    "\n",
    "**Complexidade**: `O(n)` tempo.\n"
   ]
  },
  {
   "cell_type": "markdown",
   "id": "233210c3",
   "metadata": {},
   "source": [
    "### Newbie"
   ]
  },
  {
   "cell_type": "code",
   "execution_count": null,
   "id": "44e8a95e",
   "metadata": {},
   "outputs": [],
   "source": [
    "\n",
    "def reverse_string_newbie(s: str) -> str:\n",
    "    a = list(s)\n",
    "    i, j = 0, len(a) - 1\n",
    "    while i < j:\n",
    "        a[i], a[j] = a[j], a[i]\n",
    "        i += 1; j -= 1\n",
    "    return \"\".join(a)\n",
    "\n",
    "# quick tests\n",
    "assert reverse_string_newbie(\"abc\") == \"cba\"\n"
   ]
  },
  {
   "cell_type": "markdown",
   "id": "78292d7e",
   "metadata": {},
   "source": [
    "### Fodona"
   ]
  },
  {
   "cell_type": "code",
   "execution_count": null,
   "id": "8f2b71b1",
   "metadata": {},
   "outputs": [],
   "source": [
    "\n",
    "def reverse_string_fodona(s: str) -> str:\n",
    "    a = list(s)\n",
    "    l, r = 0, len(a) - 1\n",
    "    while l < r:\n",
    "        a[l], a[r] = a[r], a[l]\n",
    "        l += 1; r -= 1\n",
    "    return \"\".join(a)\n"
   ]
  },
  {
   "cell_type": "markdown",
   "id": "59ee7b4d",
   "metadata": {},
   "source": [
    "### Pythônica apelona"
   ]
  },
  {
   "cell_type": "code",
   "execution_count": null,
   "id": "e5bf5882",
   "metadata": {},
   "outputs": [],
   "source": [
    "\n",
    "def reverse_string_pythonica(s: str) -> str:\n",
    "    return s[::-1]\n"
   ]
  },
  {
   "cell_type": "markdown",
   "id": "75effcc4",
   "metadata": {},
   "source": [
    "\n",
    "## 2) Verificar anagramas sem `sorted`\n"
   ]
  },
  {
   "cell_type": "markdown",
   "id": "1e682593",
   "metadata": {},
   "source": [
    "### Newbie"
   ]
  },
  {
   "cell_type": "code",
   "execution_count": null,
   "id": "19e8e1ab",
   "metadata": {},
   "outputs": [],
   "source": [
    "\n",
    "def is_anagram_newbie(a: str, b: str) -> bool:\n",
    "    if len(a) != len(b): return False\n",
    "    cnt = {}\n",
    "    for ch in a:\n",
    "        cnt[ch] = cnt.get(ch, 0) + 1\n",
    "    for ch in b:\n",
    "        if cnt.get(ch, 0) == 0:\n",
    "            return False\n",
    "        cnt[ch] -= 1\n",
    "    return True\n"
   ]
  },
  {
   "cell_type": "markdown",
   "id": "94155444",
   "metadata": {},
   "source": [
    "### Fodona (array 26)"
   ]
  },
  {
   "cell_type": "code",
   "execution_count": null,
   "id": "2bbcc41b",
   "metadata": {},
   "outputs": [],
   "source": [
    "\n",
    "def is_anagram_fodona(a: str, b: str) -> bool:\n",
    "    if len(a) != len(b): return False\n",
    "    base = ord('a')\n",
    "    freq = [0]*26\n",
    "    for ch in a:\n",
    "        idx = ord(ch)-base\n",
    "        if 0 <= idx < 26:\n",
    "            freq[idx]+=1\n",
    "        else:\n",
    "            return is_anagram_newbie(a,b)\n",
    "    for ch in b:\n",
    "        idx = ord(ch)-base\n",
    "        if 0 <= idx < 26:\n",
    "            freq[idx]-=1\n",
    "            if freq[idx]<0: return False\n",
    "        else:\n",
    "            return is_anagram_newbie(a,b)\n",
    "    return all(v==0 for v in freq)\n"
   ]
  },
  {
   "cell_type": "markdown",
   "id": "d51df723",
   "metadata": {},
   "source": [
    "### Pythônica apelona"
   ]
  },
  {
   "cell_type": "code",
   "execution_count": null,
   "id": "fae0b828",
   "metadata": {},
   "outputs": [],
   "source": [
    "\n",
    "from collections import Counter\n",
    "def is_anagram_pythonica(a: str, b: str) -> bool:\n",
    "    return Counter(a) == Counter(b)\n"
   ]
  },
  {
   "cell_type": "markdown",
   "id": "d7149f6f",
   "metadata": {},
   "source": [
    "\n",
    "## 3) Primeiro caractere não repetido\n"
   ]
  },
  {
   "cell_type": "markdown",
   "id": "75b6e999",
   "metadata": {},
   "source": [
    "### Newbie"
   ]
  },
  {
   "cell_type": "code",
   "execution_count": null,
   "id": "e2ec573d",
   "metadata": {},
   "outputs": [],
   "source": [
    "\n",
    "def first_unique_index_newbie(s: str) -> int:\n",
    "    cnt = {}\n",
    "    for ch in s:\n",
    "        cnt[ch] = cnt.get(ch, 0) + 1\n",
    "    for i, ch in enumerate(s):\n",
    "        if cnt[ch] == 1:\n",
    "            return i\n",
    "    return -1\n"
   ]
  },
  {
   "cell_type": "markdown",
   "id": "ea417cca",
   "metadata": {},
   "source": [
    "### Fodona (26)"
   ]
  },
  {
   "cell_type": "code",
   "execution_count": null,
   "id": "693851f9",
   "metadata": {},
   "outputs": [],
   "source": [
    "\n",
    "def first_unique_index_fodona(s: str) -> int:\n",
    "    first = [-1]*26\n",
    "    count = [0]*26\n",
    "    base = ord('a')\n",
    "    for i, ch in enumerate(s):\n",
    "        idx = ord(ch)-base\n",
    "        if 0 <= idx < 26:\n",
    "            if first[idx] == -1: first[idx] = i\n",
    "            count[idx] += 1\n",
    "        else:\n",
    "            return first_unique_index_newbie(s)\n",
    "    ans = 10**9\n",
    "    for k in range(26):\n",
    "        if count[k]==1: ans = min(ans, first[k])\n",
    "    return -1 if ans==10**9 else ans\n"
   ]
  },
  {
   "cell_type": "markdown",
   "id": "160f0541",
   "metadata": {},
   "source": [
    "### Pythônica apelona"
   ]
  },
  {
   "cell_type": "code",
   "execution_count": null,
   "id": "94aafe7a",
   "metadata": {},
   "outputs": [],
   "source": [
    "\n",
    "from collections import Counter\n",
    "def first_unique_index_pythonica(s: str) -> int:\n",
    "    cnt = Counter(s)\n",
    "    for i,ch in enumerate(s):\n",
    "        if cnt[ch]==1: return i\n",
    "    return -1\n"
   ]
  },
  {
   "cell_type": "markdown",
   "id": "44e74547",
   "metadata": {},
   "source": [
    "\n",
    "## 4) Palíndromo válido (ignora não-alfaNum; case-insensitive)\n"
   ]
  },
  {
   "cell_type": "markdown",
   "id": "f9760d4c",
   "metadata": {},
   "source": [
    "### Duas pontas"
   ]
  },
  {
   "cell_type": "code",
   "execution_count": null,
   "id": "d4969be1",
   "metadata": {},
   "outputs": [],
   "source": [
    "\n",
    "def is_palindrome_valid(s: str) -> bool:\n",
    "    i, j = 0, len(s)-1\n",
    "    while i < j:\n",
    "        while i < j and not s[i].isalnum(): i+=1\n",
    "        while i < j and not s[j].isalnum(): j-=1\n",
    "        if s[i].lower() != s[j].lower(): return False\n",
    "        i+=1; j-=1\n",
    "    return True\n"
   ]
  },
  {
   "cell_type": "markdown",
   "id": "7691c3d2",
   "metadata": {},
   "source": [
    "### Pythônica apelona"
   ]
  },
  {
   "cell_type": "code",
   "execution_count": null,
   "id": "7dce3847",
   "metadata": {},
   "outputs": [],
   "source": [
    "\n",
    "def is_palindrome_pythonica(s: str) -> bool:\n",
    "    t = [c.lower() for c in s if c.isalnum()]\n",
    "    return t == t[::-1]\n"
   ]
  },
  {
   "cell_type": "markdown",
   "id": "b7fa06d0",
   "metadata": {},
   "source": [
    "\n",
    "## 5) Maior substring sem repetir caracteres\n"
   ]
  },
  {
   "cell_type": "markdown",
   "id": "31340587",
   "metadata": {},
   "source": [
    "### Newbie (set + move)"
   ]
  },
  {
   "cell_type": "code",
   "execution_count": null,
   "id": "253a154a",
   "metadata": {},
   "outputs": [],
   "source": [
    "\n",
    "def length_longest_substring_newbie(s: str) -> int:\n",
    "    seen = set(); i=j=best=0\n",
    "    while i<len(s) and j<len(s):\n",
    "        if s[j] not in seen:\n",
    "            seen.add(s[j]); j+=1; best=max(best, j-i)\n",
    "        else:\n",
    "            seen.remove(s[i]); i+=1\n",
    "    return best\n"
   ]
  },
  {
   "cell_type": "markdown",
   "id": "900f2f62",
   "metadata": {},
   "source": [
    "### Fodona (último índice)"
   ]
  },
  {
   "cell_type": "code",
   "execution_count": null,
   "id": "30bfc6a9",
   "metadata": {},
   "outputs": [],
   "source": [
    "\n",
    "def length_longest_substring_fodona(s: str) -> int:\n",
    "    last = {}; start = best = 0\n",
    "    for i,ch in enumerate(s):\n",
    "        if ch in last and last[ch] >= start:\n",
    "            start = last[ch]+1\n",
    "        last[ch] = i\n",
    "        if i-start+1 > best: best = i-start+1\n",
    "    return best\n"
   ]
  },
  {
   "cell_type": "markdown",
   "id": "5e0d6e6f",
   "metadata": {},
   "source": [
    "### Pythônica apelona (compacta)"
   ]
  },
  {
   "cell_type": "code",
   "execution_count": null,
   "id": "fd9c36b3",
   "metadata": {},
   "outputs": [],
   "source": [
    "\n",
    "def length_longest_substring_pythonica(s: str) -> int:\n",
    "    last = {}; start = best = 0\n",
    "    for i,ch in enumerate(s):\n",
    "        start = max(start, last.get(ch,-1)+1)\n",
    "        last[ch] = i\n",
    "        best = max(best, i-start+1)\n",
    "    return best\n"
   ]
  },
  {
   "cell_type": "markdown",
   "id": "f1b59b7c",
   "metadata": {},
   "source": [
    "\n",
    "## 6) Substring search (KMP) — sem `find`\n"
   ]
  },
  {
   "cell_type": "code",
   "execution_count": null,
   "id": "a2e5fc9e",
   "metadata": {},
   "outputs": [],
   "source": [
    "\n",
    "def kmp_search(text: str, pat: str) -> int:\n",
    "    if pat==\"\": return 0\n",
    "    lps = [0]*len(pat)\n",
    "    i=j=1; j=0\n",
    "    while i < len(pat):\n",
    "        if pat[i]==pat[j]:\n",
    "            j+=1; lps[i]=j; i+=1\n",
    "        elif j:\n",
    "            j=lps[j-1]\n",
    "        else:\n",
    "            lps[i]=0; i+=1\n",
    "    i=j=0\n",
    "    while i < len(text):\n",
    "        if text[i]==pat[j]:\n",
    "            i+=1; j+=1\n",
    "            if j==len(pat): return i-j\n",
    "        elif j:\n",
    "            j=lps[j-1]\n",
    "        else:\n",
    "            i+=1\n",
    "    return -1\n"
   ]
  },
  {
   "cell_type": "markdown",
   "id": "20c04b04",
   "metadata": {},
   "source": [
    "### Newbie (força bruta)"
   ]
  },
  {
   "cell_type": "code",
   "execution_count": null,
   "id": "eec64fe1",
   "metadata": {},
   "outputs": [],
   "source": [
    "\n",
    "def find_bruteforce(text: str, pat: str) -> int:\n",
    "    if pat==\"\": return 0\n",
    "    n,m=len(text),len(pat)\n",
    "    for i in range(n-m+1):\n",
    "        k=0\n",
    "        while k<m and text[i+k]==pat[k]:\n",
    "            k+=1\n",
    "        if k==m: return i\n",
    "    return -1\n"
   ]
  },
  {
   "cell_type": "markdown",
   "id": "b37379f4",
   "metadata": {},
   "source": [
    "### Pythônica apelona"
   ]
  },
  {
   "cell_type": "code",
   "execution_count": null,
   "id": "0d082df5",
   "metadata": {},
   "outputs": [],
   "source": [
    "\n",
    "def find_pythonica(text: str, pat: str) -> int:\n",
    "    return text.find(pat)\n"
   ]
  },
  {
   "cell_type": "markdown",
   "id": "e03e052e",
   "metadata": {},
   "source": [
    "\n",
    "## 7) Maior substring palindrômica\n"
   ]
  },
  {
   "cell_type": "markdown",
   "id": "2ccb950c",
   "metadata": {},
   "source": [
    "### Newbie (expandir centros)"
   ]
  },
  {
   "cell_type": "code",
   "execution_count": null,
   "id": "063859b6",
   "metadata": {},
   "outputs": [],
   "source": [
    "\n",
    "def longest_pal_substring_newbie(s: str) -> str:\n",
    "    if not s: return \"\"\n",
    "    def expand(l,r):\n",
    "        while l>=0 and r<len(s) and s[l]==s[r]:\n",
    "            l-=1; r+=1\n",
    "        return l+1, r\n",
    "    best=(0,1)\n",
    "    for i in range(len(s)):\n",
    "        l1,r1=expand(i,i)\n",
    "        l2,r2=expand(i,i+1)\n",
    "        if r1-l1>r2-l2 and r1-l1>best[1]-best[0]: best=(l1,r1)\n",
    "        elif r2-l2>best[1]-best[0]: best=(l2,r2)\n",
    "    return s[best[0]:best[1]]\n"
   ]
  },
  {
   "cell_type": "markdown",
   "id": "df309568",
   "metadata": {},
   "source": [
    "### Fodona (Manacher)"
   ]
  },
  {
   "cell_type": "code",
   "execution_count": null,
   "id": "e5ccdfd9",
   "metadata": {},
   "outputs": [],
   "source": [
    "\n",
    "def longest_pal_substring_manacher(s: str) -> str:\n",
    "    if not s: return \"\"\n",
    "    t=['^']\n",
    "    for ch in s: t+=['#',ch]\n",
    "    t+=['#','$']\n",
    "    n=len(t); p=[0]*n; c=r=0\n",
    "    for i in range(1,n-1):\n",
    "        mir=2*c-i\n",
    "        if i<r: p[i]=min(r-i,p[mir])\n",
    "        while t[i+1+p[i]]==t[i-1-p[i]]: p[i]+=1\n",
    "        if i+p[i]>r: c,r=i,i+p[i]\n",
    "    max_len=center=max((p[i],i) for i in range(1,n-1))\n",
    "    start=(center-max_len)//2\n",
    "    return s[start:start+max_len]\n"
   ]
  },
  {
   "cell_type": "markdown",
   "id": "154b9c01",
   "metadata": {},
   "source": [
    "### Pythônica apelona (compacta de centros)"
   ]
  },
  {
   "cell_type": "code",
   "execution_count": null,
   "id": "99d5c6f5",
   "metadata": {},
   "outputs": [],
   "source": [
    "\n",
    "def longest_pal_substring_pythonica(s: str) -> str:\n",
    "    best=\"\"\n",
    "    for i in range(len(s)):\n",
    "        for a,b in ((i,i),(i,i+1)):\n",
    "            l,r=a,b\n",
    "            while l>=0 and r<len(s) and s[l]==s[r]:\n",
    "                if r-l+1>len(best): best=s[l:r+1]\n",
    "                l-=1; r+=1\n",
    "    return best\n"
   ]
  },
  {
   "cell_type": "markdown",
   "id": "ba236d9c",
   "metadata": {},
   "source": [
    "\n",
    "## 8) Menor janela contendo `t` em `s`\n"
   ]
  },
  {
   "cell_type": "markdown",
   "id": "f8205e39",
   "metadata": {},
   "source": [
    "### Fodona (janela)"
   ]
  },
  {
   "cell_type": "code",
   "execution_count": null,
   "id": "1aedde7a",
   "metadata": {},
   "outputs": [],
   "source": [
    "\n",
    "def min_window(s: str, t: str) -> str:\n",
    "    if not s or not t: return \"\"\n",
    "    need={}\n",
    "    for ch in t: need[ch]=need.get(ch,0)+1\n",
    "    missing=len(t); i=start=end=0\n",
    "    for j,ch in enumerate(s,1):\n",
    "        if need.get(ch,0)>0: missing-=1\n",
    "        need[ch]=need.get(ch,0)-1\n",
    "        while missing==0:\n",
    "            if end==0 or j-i<end-start: start,end=i,j\n",
    "            need[s[i]]=need.get(s[i],0)+1\n",
    "            if need[s[i]]>0: missing+=1\n",
    "            i+=1\n",
    "    return s[start:end]\n"
   ]
  },
  {
   "cell_type": "markdown",
   "id": "2792ce23",
   "metadata": {},
   "source": [
    "### Newbie (brute force educativo)"
   ]
  },
  {
   "cell_type": "code",
   "execution_count": null,
   "id": "67353fb7",
   "metadata": {},
   "outputs": [],
   "source": [
    "\n",
    "def min_window_newbie(s: str, t: str) -> str:\n",
    "    if not s or not t: return \"\"\n",
    "    def covers(a: str, t: str) -> bool:\n",
    "        need={}\n",
    "        for ch in t: need[ch]=need.get(ch,0)+1\n",
    "        for ch in a:\n",
    "            if need.get(ch,0)>0: need[ch]-=1\n",
    "        return all(v==0 for v in need.values())\n",
    "    best=\"\"\n",
    "    for i in range(len(s)):\n",
    "        for j in range(i+1,len(s)+1):\n",
    "            sub=s[i:j]\n",
    "            if (not best or len(sub)<len(best)) and covers(sub,t):\n",
    "                best=sub\n",
    "    return best\n"
   ]
  },
  {
   "cell_type": "markdown",
   "id": "3b9f96e3",
   "metadata": {},
   "source": [
    "### Pythônica apelona (Counter)"
   ]
  },
  {
   "cell_type": "code",
   "execution_count": null,
   "id": "0d2aa6de",
   "metadata": {},
   "outputs": [],
   "source": [
    "\n",
    "from collections import Counter\n",
    "def min_window_pythonica(s: str, t: str) -> str:\n",
    "    need=Counter(t); missing=len(t)\n",
    "    i=start=end=0\n",
    "    for j,ch in enumerate(s,1):\n",
    "        if need[ch]>0: missing-=1\n",
    "        need[ch]-=1\n",
    "        while missing==0:\n",
    "            if end==0 or j-i<end-start: start,end=i,j\n",
    "            need[s[i]]+=1\n",
    "            if need[s[i]]>0: missing+=1\n",
    "            i+=1\n",
    "    return s[start:end]\n"
   ]
  },
  {
   "cell_type": "markdown",
   "id": "a010e550",
   "metadata": {},
   "source": [
    "\n",
    "## 9) Decodificar `\"3[a2[c]]\"`\n"
   ]
  },
  {
   "cell_type": "code",
   "execution_count": null,
   "id": "15ca7be8",
   "metadata": {},
   "outputs": [],
   "source": [
    "\n",
    "def decode_string(s: str) -> str:\n",
    "    num_st, str_st = [], []\n",
    "    cur=[]; k=0\n",
    "    for ch in s:\n",
    "        if ch.isdigit():\n",
    "            k=k*10+(ord(ch)-48)\n",
    "        elif ch=='[':\n",
    "            num_st.append(k); str_st.append(cur); k=0; cur=[]\n",
    "        elif ch==']':\n",
    "            rep=num_st.pop(); prev=str_st.pop()\n",
    "            cur = prev + cur*rep\n",
    "        else:\n",
    "            cur.append(ch)\n",
    "    return \"\".join(cur)\n"
   ]
  },
  {
   "cell_type": "markdown",
   "id": "9d81aa4d",
   "metadata": {},
   "source": [
    "\n",
    "## 10) Distância de edição (Levenshtein)\n"
   ]
  },
  {
   "cell_type": "markdown",
   "id": "497194d6",
   "metadata": {},
   "source": [
    "### Newbie (tabela completa)"
   ]
  },
  {
   "cell_type": "code",
   "execution_count": null,
   "id": "f2ff9383",
   "metadata": {},
   "outputs": [],
   "source": [
    "\n",
    "def edit_distance_newbie(a: str, b: str) -> int:\n",
    "    n,m=len(a),len(b)\n",
    "    dp=[[0]*(m+1) for _ in range(n+1)]\n",
    "    for i in range(n+1): dp[i][0]=i\n",
    "    for j in range(m+1): dp[0][j]=j\n",
    "    for i in range(1,n+1):\n",
    "        for j in range(1,m+1):\n",
    "            cost=0 if a[i-1]==b[j-1] else 1\n",
    "            dp[i][j]=min(dp[i-1][j]+1, dp[i][j-1]+1, dp[i-1][j-1]+cost)\n",
    "    return dp[n][m]\n"
   ]
  },
  {
   "cell_type": "markdown",
   "id": "22061a39",
   "metadata": {},
   "source": [
    "### Fodona (duas linhas)"
   ]
  },
  {
   "cell_type": "code",
   "execution_count": null,
   "id": "03ecde00",
   "metadata": {},
   "outputs": [],
   "source": [
    "\n",
    "def edit_distance_fodona(a: str, b: str) -> int:\n",
    "    if len(a) < len(b): a,b=b,a\n",
    "    prev=list(range(len(b)+1))\n",
    "    for i,ca in enumerate(a,1):\n",
    "        cur=[i]\n",
    "        for j,cb in enumerate(b,1):\n",
    "            cost=0 if ca==cb else 1\n",
    "            cur.append(min(prev[j]+1, cur[j-1]+1, prev[j-1]+cost))\n",
    "        prev=cur\n",
    "    return prev[-1]\n"
   ]
  },
  {
   "cell_type": "markdown",
   "id": "52f5b7fb",
   "metadata": {},
   "source": [
    "### Pythônica apelona"
   ]
  },
  {
   "cell_type": "code",
   "execution_count": null,
   "id": "093b23c5",
   "metadata": {},
   "outputs": [],
   "source": [
    "\n",
    "# Não há builtin — a versão 'fodona' já é ideal em Python puro.\n"
   ]
  },
  {
   "cell_type": "markdown",
   "id": "e550f6f5",
   "metadata": {},
   "source": [
    "\n",
    "---\n",
    "## Perguntas típicas e como responder\n",
    "\n",
    "- **Por que sua solução é `O(n)`?**  \n",
    "  Explico que percorro cada caractere no máximo `k` vezes e mantenho mapas de tamanho limitado.\n",
    "\n",
    "- **Pode otimizar espaço?**  \n",
    "  Sim — duas pontas (O(1)) ou DP em duas linhas para Levenshtein.\n",
    "\n",
    "- **E Unicode?**  \n",
    "  Trocar array fixo por `dict` e considerar `casefold()`. Para remoção de acentos, normalizar com `unicodedata` (se permitido).\n",
    "\n",
    "- **Edge cases?**  \n",
    "  Strings vazias, um caractere, todos iguais, padrão no início/fim, entradas grandes.\n"
   ]
  }
 ],
 "metadata": {},
 "nbformat": 4,
 "nbformat_minor": 5
}