{
  "cells": [
    {
      "cell_type": "markdown",
      "id": "825a8667",
      "metadata": {},
      "source": [
        "\n",
        "# 🧠 String Interview Playbook — do básico ao avançado\n",
        "\n",
        "Este notebook reúne **problemas clássicos e alguns avançados de strings**, cada um com **3 versões**:\n",
        "\n",
        "- **Newbie**: direta, didática — às vezes menos eficiente.\n",
        "- **Fodona**: solução ótima/algorítmica (janela deslizante, DP, KMP, Manacher, etc.).\n",
        "- **Pythônica apelona**: usando o poder da linguagem (ex.: `Counter`, `sorted`, `re`) — *quando a entrevista permitir*.\n",
        "\n",
        "Para cada problema há **explicação**, **complexidade** e **perguntas típicas** de entrevista.\n"
      ]
    },
    {
      "cell_type": "code",
      "execution_count": 62,
      "id": "f3de8624",
      "metadata": {},
      "outputs": [],
      "source": [
        "\n",
        "def run_tests(func, cases):\n",
        "    for i, (args, expected) in enumerate(cases, 1):\n",
        "        if not isinstance(args, tuple):\n",
        "            args = (args,)\n",
        "        got = func(*args)\n",
        "        assert got == expected, f\"case {i} failed: got={got}, expected={expected}, args={args}\"\n",
        "    \"✓ all tests passed\"\n"
      ]
    },
    {
      "cell_type": "markdown",
      "id": "ceab3e96",
      "metadata": {},
      "source": [
        "## 1) Reverter string\n",
        "\n",
        "Reverter uma string significa produzir uma nova sequência com os caracteres na ordem inversa. É uma operação essencial para validar palíndromos, implementar pilhas manuais, fazer parsing de números escritos ao contrário e aparece como aquecimento em entrevistas.\n",
        "**Exemplo:** se `s = \"algoritmo\"`, a resposta esperada é `\"omtirogla\"`.\n",
        "\n",
        "O detalhe sutil é que, em Python, `str` é imutável: não conseguimos trocar caracteres in-place. Por isso todas as abordagens aqui trabalham sobre uma estrutura auxiliar (lista) ou devolvem uma nova string. Todas custam tempo linear `O(n)`, porque cada caractere precisa ser visitado ao menos uma vez.\n"
      ]
    },
    {
      "cell_type": "markdown",
      "id": "233210c3",
      "metadata": {},
      "source": [
        "### Newbie\n",
        "\n",
        "Esta versão expõe a mecânica básica de inverter uma string, ideal para explicar dois ponteiros.\n",
        "\n",
        "**Passos principais**\n",
        "1. Converter a string imutável em lista (`list(s)`) para permitir trocas.\n",
        "2. Iniciar dois índices, um no começo (`i`) e outro no fim (`j`).\n",
        "3. Trocar `a[i]` com `a[j]`, avançar `i += 1` e recuar `j -= 1` repetindo até que `i >= j`.\n",
        "4. Reconstruir a string com `\"\".join(a)`.\n",
        "\n",
        "**Exemplo rápido:** `\"abcd\"` vira `['a','b','c','d']` → troca `(0,3)` → troca `(1,2)` → `\"dcba\"`.\n",
        "\n",
        "**Complexidade:** tempo `O(n)`; espaço `O(n)` para a lista temporária.\n"
      ]
    },
    {
      "cell_type": "code",
      "execution_count": 35,
      "id": "44e8a95e",
      "metadata": {},
      "outputs": [],
      "source": [
        "\n",
        "def reverse_string_newbie(s: str) -> str:\n",
        "    a = list(s)\n",
        "    i, j = 0, len(a) - 1\n",
        "    while i < j:\n",
        "        a[i], a[j] = a[j], a[i]\n",
        "        i += 1; j -= 1\n",
        "    return \"\".join(a)\n",
        "\n",
        "# quick tests\n",
        "assert reverse_string_newbie(\"abc\") == \"cba\"\n"
      ]
    },
    {
      "cell_type": "markdown",
      "id": "78292d7e",
      "metadata": {},
      "source": [
        "### Fodona\n",
        "\n",
        "A versão \"fodona\" assume a mesma estratégia dos dois ponteiros, porém com foco em invariantes e clareza de variáveis, como pediriam em uma entrevista presencial.\n",
        "\n",
        "**Raciocínio:** enquanto `l < r`, os elementos `a[l]` e `a[r]` estão fora do lugar. Ao trocá-los garantimos que as posições exteriores já ficam corretas. O algoritmo termina quando a janela se fecha, garantindo que todos os pares foram permutados exatamente uma vez.\n",
        "\n",
        "**Complexidade:** tempo `O(n)`; espaço `O(n)` por causa da conversão da string em lista mutável.\n"
      ]
    },
    {
      "cell_type": "code",
      "execution_count": 36,
      "id": "8f2b71b1",
      "metadata": {},
      "outputs": [],
      "source": [
        "\n",
        "def reverse_string_fodona(s: str) -> str:\n",
        "    a = list(s)\n",
        "    l, r = 0, len(a) - 1\n",
        "    while l < r:\n",
        "        a[l], a[r] = a[r], a[l]\n",
        "        l += 1; r -= 1\n",
        "    return \"\".join(a)\n"
      ]
    },
    {
      "cell_type": "markdown",
      "id": "59ee7b4d",
      "metadata": {},
      "source": [
        "### Pythônica apelona\n",
        "\n",
        "Quando a entrevista permite usar recursos de linguagem, `s[::-1]` é a forma mais sucinta e rápida em Python para reverter strings.\n",
        "\n",
        "**Por que funciona:** o slicing com passo `-1` instrui o interpretador a percorrer a sequência do fim para o começo, alocando uma nova string com os caracteres na ordem inversa.\n",
        "\n",
        "**Complexidade:** tempo `O(n)` (cada caractere é copiado uma vez); espaço `O(n)` (a nova string).\n"
      ]
    },
    {
      "cell_type": "code",
      "execution_count": 37,
      "id": "e5bf5882",
      "metadata": {},
      "outputs": [],
      "source": [
        "\n",
        "def reverse_string_pythonica(s: str) -> str:\n",
        "    return s[::-1]\n"
      ]
    },
    {
      "cell_type": "markdown",
      "id": "75effcc4",
      "metadata": {},
      "source": [
        "## 2) Verificar anagramas sem `sorted`\n",
        "\n",
        "Um anagrama é uma permutação das letras de outra palavra ou frase. \"Roma\" e \"Amor\", por exemplo, são anagramas porque usam as mesmas letras com a mesma multiplicidade. Entrevistadores gostam da pergunta porque ela exige raciocinar sobre contagem de frequências e domínio de caracteres, além de evitar a solução fácil `sorted(a) == sorted(b)`.\n",
        "\n",
        "Analisar anagramas revela diferentes trade-offs: dicionários funcionam para qualquer conjunto de símbolos, enquanto arrays fixos são ultra rápidos quando o alfabeto é conhecido (apenas `a..z`). Todas as versões aqui executam em tempo linear `O(n)`, mas o espaço varia conforme a estrutura auxiliar.\n"
      ]
    },
    {
      "cell_type": "markdown",
      "id": "1e682593",
      "metadata": {},
      "source": [
        "### Newbie\n",
        "\n",
        "Primeiro construímos um contador de frequências com `dict` para `a` e depois \"descontamos\" os caracteres de `b`.\n",
        "\n",
        "**Passos principais**\n",
        "1. Se tamanhos divergem, não são anagramas.\n",
        "2. Contar cada letra de `a` usando `cnt[ch] = cnt.get(ch, 0) + 1`.\n",
        "3. Para cada letra em `b`, decrementar. Se alguma contagem ficar negativa ou inexistente, falha.\n",
        "4. Se terminamos sem inconsistências, as duas strings usam os mesmos caracteres com a mesma multiplicidade.\n",
        "\n",
        "**Complexidade:** tempo `O(n)`; espaço `O(k)` onde `k` é a quantidade de símbolos distintos.\n"
      ]
    },
    {
      "cell_type": "code",
      "execution_count": 38,
      "id": "19e8e1ab",
      "metadata": {},
      "outputs": [],
      "source": [
        "\n",
        "def is_anagram_newbie(a: str, b: str) -> bool:\n",
        "    if len(a) != len(b): return False\n",
        "    cnt = {}\n",
        "    for ch in a:\n",
        "        cnt[ch] = cnt.get(ch, 0) + 1\n",
        "    for ch in b:\n",
        "        if cnt.get(ch, 0) == 0:\n",
        "            return False\n",
        "        cnt[ch] -= 1\n",
        "    return True\n"
      ]
    },
    {
      "cell_type": "markdown",
      "id": "94155444",
      "metadata": {},
      "source": [
        "### Fodona (array 26)\n",
        "\n",
        "Quando sabemos que o alfabeto é apenas `a..z`, substituímos o `dict` por um vetor de tamanho fixo, o que economiza constante e evita hashing.\n",
        "\n",
        "**Passos principais**\n",
        "1. Mapear cada caractere para `idx = ord(ch) - ord('a')`.\n",
        "2. Incrementar contagens para `a`, decrementar para `b`.\n",
        "3. Se algum caractere sair do intervalo `0..25`, voltamos para a versão genérica.\n",
        "4. No final, verificar se todas as contagens zeraram.\n",
        "\n",
        "**Complexidade:** tempo `O(n)`; espaço `O(1)` (o vetor tem tamanho constante).\n"
      ]
    },
    {
      "cell_type": "code",
      "execution_count": 39,
      "id": "2bbcc41b",
      "metadata": {},
      "outputs": [],
      "source": [
        "\n",
        "def is_anagram_fodona(a: str, b: str) -> bool:\n",
        "    if len(a) != len(b): return False\n",
        "    base = ord('a')\n",
        "    freq = [0]*26\n",
        "    for ch in a:\n",
        "        idx = ord(ch)-base\n",
        "        if 0 <= idx < 26:\n",
        "            freq[idx]+=1\n",
        "        else:\n",
        "            return is_anagram_newbie(a,b)\n",
        "    for ch in b:\n",
        "        idx = ord(ch)-base\n",
        "        if 0 <= idx < 26:\n",
        "            freq[idx]-=1\n",
        "            if freq[idx]<0: return False\n",
        "        else:\n",
        "            return is_anagram_newbie(a,b)\n",
        "    return all(v==0 for v in freq)\n"
      ]
    },
    {
      "cell_type": "markdown",
      "id": "d51df723",
      "metadata": {},
      "source": [
        "### Pythônica apelona\n",
        "\n",
        "`collections.Counter` encapsula a lógica de contagem em C e é ideal quando a entrevista aceita bibliotecas da stdlib.\n",
        "\n",
        "**Uso:** `Counter(a) == Counter(b)` compara dicionários de contagem, respeitando multiplicidades e ignorando ordem.\n",
        "\n",
        "**Complexidade:** tempo `O(n)`; espaço `O(k)` para armazenar as frequências.\n"
      ]
    },
    {
      "cell_type": "code",
      "execution_count": 40,
      "id": "fae0b828",
      "metadata": {},
      "outputs": [],
      "source": [
        "\n",
        "from collections import Counter\n",
        "def is_anagram_pythonica(a: str, b: str) -> bool:\n",
        "    return Counter(a) == Counter(b)\n"
      ]
    },
    {
      "cell_type": "markdown",
      "id": "d7149f6f",
      "metadata": {},
      "source": [
        "## 3) Primeiro caractere não repetido\n",
        "\n",
        "O objetivo é encontrar o índice da primeira letra que aparece exatamente uma vez na string. O problema testa se você sabe combinar contagem de frequências com uma segunda passada para encontrar a resposta.\n",
        "\n",
        "Use casos reais: identificar o primeiro caractere único em identificadores, encontrar o primeiro usuário não duplicado em uma lista, detectar sinais de ruído em streams. O algoritmo clássico faz duas passadas e usa memória proporcional ao número de caracteres distintos.\n"
      ]
    },
    {
      "cell_type": "markdown",
      "id": "75b6e999",
      "metadata": {},
      "source": [
        "### Newbie\n",
        "\n",
        "A estratégia clássica faz duas passadas: contar e depois encontrar o índice do primeiro caractere único.\n",
        "\n",
        "**Passos principais**\n",
        "1. Construir `cnt[ch]` com o número de ocorrências de cada caractere.\n",
        "2. Percorrer novamente `s` e retornar o primeiro índice `i` tal que `cnt[s[i]] == 1`.\n",
        "3. Se nenhum caractere atender ao critério, devolvemos `-1`.\n",
        "\n",
        "**Complexidade:** tempo `O(n)`; espaço `O(k)` para o mapa de frequências.\n"
      ]
    },
    {
      "cell_type": "code",
      "execution_count": 41,
      "id": "e2ec573d",
      "metadata": {},
      "outputs": [],
      "source": [
        "\n",
        "def first_unique_index_newbie(s: str) -> int:\n",
        "    cnt = {}\n",
        "    for ch in s:\n",
        "        cnt[ch] = cnt.get(ch, 0) + 1\n",
        "    for i, ch in enumerate(s):\n",
        "        if cnt[ch] == 1:\n",
        "            return i\n",
        "    return -1\n"
      ]
    },
    {
      "cell_type": "markdown",
      "id": "ea417cca",
      "metadata": {},
      "source": [
        "### Fodona (26)\n",
        "\n",
        "Restringindo para letras minúsculas, guardamos duas informações em vetores: a posição da primeira ocorrência e o número de ocorrências.\n",
        "\n",
        "**Raciocínio:** ao percorrer `s`, atualizamos `first[idx]` (se ainda não definido) e incrementamos `count[idx]`. No fim, basta olhar qual índice aparece exatamente uma vez e tem menor posição.\n",
        "\n",
        "**Complexidade:** tempo `O(n)`; espaço `O(1)` por manter vetores de tamanho constante.\n"
      ]
    },
    {
      "cell_type": "code",
      "execution_count": 42,
      "id": "693851f9",
      "metadata": {},
      "outputs": [],
      "source": [
        "\n",
        "def first_unique_index_fodona(s: str) -> int:\n",
        "    first = [-1]*26\n",
        "    count = [0]*26\n",
        "    base = ord('a')\n",
        "    for i, ch in enumerate(s):\n",
        "        idx = ord(ch)-base\n",
        "        if 0 <= idx < 26:\n",
        "            if first[idx] == -1: first[idx] = i\n",
        "            count[idx] += 1\n",
        "        else:\n",
        "            return first_unique_index_newbie(s)\n",
        "    ans = 10**9\n",
        "    for k in range(26):\n",
        "        if count[k]==1: ans = min(ans, first[k])\n",
        "    return -1 if ans==10**9 else ans\n"
      ]
    },
    {
      "cell_type": "markdown",
      "id": "160f0541",
      "metadata": {},
      "source": [
        "### Pythônica apelona\n",
        "\n",
        "Com `Counter` podemos esconder a contagem de frequências e focar na segunda passada.\n",
        "\n",
        "**Uso típico:**\n",
        "```python\n",
        "cnt = Counter(s)\n",
        "for i, ch in enumerate(s):\n",
        "    if cnt[ch] == 1:\n",
        "        return i\n",
        "```\n",
        "\n",
        "**Complexidade:** tempo `O(n)`; espaço `O(k)` para o contador.\n"
      ]
    },
    {
      "cell_type": "code",
      "execution_count": 43,
      "id": "94aafe7a",
      "metadata": {},
      "outputs": [],
      "source": [
        "\n",
        "from collections import Counter\n",
        "def first_unique_index_pythonica(s: str) -> int:\n",
        "    cnt = Counter(s)\n",
        "    for i,ch in enumerate(s):\n",
        "        if cnt[ch]==1: return i\n",
        "    return -1\n"
      ]
    },
    {
      "cell_type": "markdown",
      "id": "44e74547",
      "metadata": {},
      "source": [
        "## 4) Palíndromo válido (ignora não-alfaNum; case-insensitive)\n",
        "\n",
        "Palíndromos são palavras ou frases que lidas de trás para frente produzem a mesma sequência. Quando ignoramos acentuação, pontuação e caixa, \"Socorram-me subi no ônibus em Marrocos\" continua sendo palíndromo.\n",
        "\n",
        "Na entrevista, o desafio está em filtrar apenas caracteres alfanuméricos e normalizar para caixa única antes de comparar. As abordagens variam entre usar dois ponteiros e construir uma nova sequência filtrada.\n"
      ]
    },
    {
      "cell_type": "markdown",
      "id": "f9760d4c",
      "metadata": {},
      "source": [
        "### Duas pontas\n",
        "\n",
        "O truque é ignorar tudo o que não for alfanumérico e comparar caracteres já normalizados em caixa baixa.\n",
        "\n",
        "**Passos principais**\n",
        "1. Iniciar `i` no começo e `j` no fim.\n",
        "2. Avançar `i` enquanto `s[i]` não for alfanumérico; o mesmo para `j`.\n",
        "3. Quando ambos apontarem para letras ou dígitos, comparar `s[i].lower()` com `s[j].lower()`.\n",
        "4. Repetir até que `i >= j`.\n",
        "\n",
        "**Complexidade:** tempo `O(n)`; espaço `O(1)` (apenas índices).\n"
      ]
    },
    {
      "cell_type": "code",
      "execution_count": 44,
      "id": "d4969be1",
      "metadata": {},
      "outputs": [],
      "source": [
        "\n",
        "def is_palindrome_valid(s: str) -> bool:\n",
        "    i, j = 0, len(s)-1\n",
        "    while i < j:\n",
        "        while i < j and not s[i].isalnum(): i+=1\n",
        "        while i < j and not s[j].isalnum(): j-=1\n",
        "        if s[i].lower() != s[j].lower(): return False\n",
        "        i+=1; j-=1\n",
        "    return True\n"
      ]
    },
    {
      "cell_type": "markdown",
      "id": "7691c3d2",
      "metadata": {},
      "source": [
        "### Pythônica apelona\n",
        "\n",
        "Podemos escrever a mesma ideia de forma declarativa montando uma lista filtrada.\n",
        "\n",
        "**Passos:**\n",
        "1. Construir `t = [c.lower() for c in s if c.isalnum()]`.\n",
        "2. Verificar se `t == t[::-1]`.\n",
        "\n",
        "**Complexidade:** tempo `O(n)`; espaço `O(n)` devido à lista filtrada.\n"
      ]
    },
    {
      "cell_type": "code",
      "execution_count": 45,
      "id": "7dce3847",
      "metadata": {},
      "outputs": [],
      "source": [
        "\n",
        "def is_palindrome_pythonica(s: str) -> bool:\n",
        "    t = [c.lower() for c in s if c.isalnum()]\n",
        "    return t == t[::-1]\n"
      ]
    },
    {
      "cell_type": "markdown",
      "id": "b7fa06d0",
      "metadata": {},
      "source": [
        "## 5) Maior substring sem repetir caracteres\n",
        "\n",
        "Dada uma string, queremos o comprimento da maior substring (contígua) sem caracteres repetidos. Esse problema é o cartão de visitas da técnica de janela deslizante.\n",
        "\n",
        "Exemplo clássico: para `\"abcabcbb\"`, a resposta é `3` (\"abc\"). Esse tipo de lógica aparece em sistemas de stream, buffers de rede e validação de tokens. A dificuldade está em manter o estado da janela sem reprocessar tudo a cada passo.\n"
      ]
    },
    {
      "cell_type": "markdown",
      "id": "31340587",
      "metadata": {},
      "source": [
        "### Newbie (set + move)\n",
        "\n",
        "É a versão pedagógica da janela deslizante. Mantemos um `set` com os caracteres atuais e dois ponteiros que delimitam a janela sem repetição.\n",
        "\n",
        "**Passos principais**\n",
        "1. Expandir `j` enquanto `s[j]` não estiver no conjunto.\n",
        "2. Se encontrarmos repetição, remover `s[i]` e avançar `i` até que o conflito desapareça.\n",
        "3. Atualizar `best` com `j - i`.\n",
        "\n",
        "**Complexidade:** tempo `O(n)`; espaço `O(k)` para o conjunto (onde `k` é o tamanho da maior janela única).\n"
      ]
    },
    {
      "cell_type": "code",
      "execution_count": 46,
      "id": "253a154a",
      "metadata": {},
      "outputs": [],
      "source": [
        "\n",
        "def length_longest_substring_newbie(s: str) -> int:\n",
        "    seen = set(); i=j=best=0\n",
        "    while i<len(s) and j<len(s):\n",
        "        if s[j] not in seen:\n",
        "            seen.add(s[j]); j+=1; best=max(best, j-i)\n",
        "        else:\n",
        "            seen.remove(s[i]); i+=1\n",
        "    return best\n"
      ]
    },
    {
      "cell_type": "markdown",
      "id": "900f2f62",
      "metadata": {},
      "source": [
        "### Fodona (último índice)\n",
        "\n",
        "Otimização importante: em vez de remover um a um, guardamos a última posição onde cada caractere apareceu.\n",
        "\n",
        "**Raciocínio:** quando `ch` reaparece dentro da janela atual (isto é, `last[ch] >= start`), pulamos direto para `last[ch] + 1`. Isso garante que cada índice move-se no máximo uma vez.\n",
        "\n",
        "**Complexidade:** tempo `O(n)`; espaço `O(k)` para o dicionário de últimas posições.\n"
      ]
    },
    {
      "cell_type": "code",
      "execution_count": 47,
      "id": "30bfc6a9",
      "metadata": {},
      "outputs": [],
      "source": [
        "\n",
        "def length_longest_substring_fodona(s: str) -> int:\n",
        "    last = {}; start = best = 0\n",
        "    for i,ch in enumerate(s):\n",
        "        if ch in last and last[ch] >= start:\n",
        "            start = last[ch]+1\n",
        "        last[ch] = i\n",
        "        if i-start+1 > best: best = i-start+1\n",
        "    return best\n"
      ]
    },
    {
      "cell_type": "markdown",
      "id": "5e0d6e6f",
      "metadata": {},
      "source": [
        "### Pythônica apelona (compacta)\n",
        "\n",
        "A mesma lógica da versão fodona, mas condensada usando `dict.get` e atualizações inline. Útil para mostrar domínio da linguagem sem perder clareza algorítmica.\n",
        "\n",
        "**Complexidade:** tempo `O(n)`; espaço `O(k)` (mapa de últimas aparições).\n"
      ]
    },
    {
      "cell_type": "code",
      "execution_count": 48,
      "id": "fd9c36b3",
      "metadata": {},
      "outputs": [],
      "source": [
        "\n",
        "def length_longest_substring_pythonica(s: str) -> int:\n",
        "    last = {}; start = best = 0\n",
        "    for i,ch in enumerate(s):\n",
        "        start = max(start, last.get(ch,-1)+1)\n",
        "        last[ch] = i\n",
        "        best = max(best, i-start+1)\n",
        "    return best\n"
      ]
    },
    {
      "cell_type": "markdown",
      "id": "f1b59b7c",
      "metadata": {},
      "source": [
        "## 6) Substring search (KMP) — sem `find`\n",
        "\n",
        "Encontrar um padrão `pat` dentro de um texto maior `text` é um dos problemas fundadores de algoritmos de string. A versão ingênua compara o padrão em cada deslocamento possível e custa `O(n·m)` no pior caso.\n",
        "\n",
        "Knuth–Morris–Pratt (KMP) muda o jogo: ao pré-processar o padrão para saber o maior prefixo que também é sufixo (array `lps`), evitamos recomeçar a busca do zero quando ocorre um mismatch. Assim, ambos os ponteiros avançam monotonicamente e o algoritmo roda em tempo `O(n + m)` com espaço `O(m)` para o `lps`.\n"
      ]
    },
    {
      "cell_type": "markdown",
      "id": "7d4a593e",
      "metadata": {},
      "source": [
        "### Fodona (KMP)\n",
        "\n",
        "O KMP começa com o pré-processamento do padrão para gerar o vetor `lps` (longest prefix suffix). Para cada posição `i`, `lps[i]` guarda o tamanho do maior prefixo de `pat` que também é sufixo de `pat[:i+1]`.\n",
        "\n",
        "**Intuição do `lps`:** ao falhar uma comparação em `pat[i]`, sabemos qual próximo caractere tentar sem voltar o ponteiro do texto. Exemplo com `pat = \"ababaca\"`: o prefixo `\"aba\"` coincide com o sufixo que termina em `i = 4`, por isso `lps[4] = 3`.\n",
        "\n",
        "**Busca:** percorremos o texto com índice `i` e o padrão com `j`. Quando `text[i] != pat[j]`, reduzimos `j = lps[j-1]`. Como `i` nunca recua, visitamos cada caractere de `text` no máximo uma vez.\n",
        "\n",
        "**Complexidade:** pré-processamento `O(m)` e busca `O(n)`; espaço `O(m)` para o vetor `lps`.\n"
      ]
    },
    {
      "cell_type": "code",
      "execution_count": 49,
      "id": "a2e5fc9e",
      "metadata": {},
      "outputs": [],
      "source": [
        "\n",
        "def kmp_search(text: str, pat: str) -> int:\n",
        "    if pat==\"\": return 0\n",
        "    lps = [0]*len(pat)\n",
        "    i=j=1; j=0\n",
        "    while i < len(pat):\n",
        "        if pat[i]==pat[j]:\n",
        "            j+=1; lps[i]=j; i+=1\n",
        "        elif j:\n",
        "            j=lps[j-1]\n",
        "        else:\n",
        "            lps[i]=0; i+=1\n",
        "    i=j=0\n",
        "    while i < len(text):\n",
        "        if text[i]==pat[j]:\n",
        "            i+=1; j+=1\n",
        "            if j==len(pat): return i-j\n",
        "        elif j:\n",
        "            j=lps[j-1]\n",
        "        else:\n",
        "            i+=1\n",
        "    return -1\n"
      ]
    },
    {
      "cell_type": "markdown",
      "id": "20c04b04",
      "metadata": {},
      "source": [
        "### Newbie (força bruta)\n",
        "\n",
        "Antes de aprender KMP, vale revisar o algoritmo ingênuo. Ele testa o padrão em cada deslocamento possível e compara caractere a caractere.\n",
        "\n",
        "**Complexidade:** tempo `O(n·m)` no pior caso; espaço `O(1)`.\n"
      ]
    },
    {
      "cell_type": "code",
      "execution_count": 50,
      "id": "eec64fe1",
      "metadata": {},
      "outputs": [],
      "source": [
        "\n",
        "def find_bruteforce(text: str, pat: str) -> int:\n",
        "    if pat==\"\": return 0\n",
        "    n,m=len(text),len(pat)\n",
        "    for i in range(n-m+1):\n",
        "        k=0\n",
        "        while k<m and text[i+k]==pat[k]:\n",
        "            k+=1\n",
        "        if k==m: return i\n",
        "    return -1\n"
      ]
    },
    {
      "cell_type": "markdown",
      "id": "b37379f4",
      "metadata": {},
      "source": [
        "### Pythônica apelona\n",
        "\n",
        "A versão pythonizada delega o trabalho para `text.find(pat)`. Por baixo dos panos o CPython usa uma implementação em C baseada em algoritmos como Two-Way/FASTSEARCH, que é bem mais otimizada que o brute force puro escrito em Python.\n",
        "\n",
        "**Quando usar:** em entrevistas que aceitam chamadas à biblioteca padrão, reforçando que você entende a teoria (KMP) mas prefere um atalho seguro e testado.\n",
        "\n",
        "**Complexidade:** no pior caso ainda é `O(n·m)`, porém com constantes muito menores e alguns cenários amortizados quase lineares. Espaço `O(1)`.\n"
      ]
    },
    {
      "cell_type": "code",
      "execution_count": 51,
      "id": "0d082df5",
      "metadata": {},
      "outputs": [],
      "source": [
        "\n",
        "def find_pythonica(text: str, pat: str) -> int:\n",
        "    return text.find(pat)\n"
      ]
    },
    {
      "cell_type": "markdown",
      "id": "e03e052e",
      "metadata": {},
      "source": [
        "## 7) Maior substring palindrômica\n",
        "\n",
        "Aqui buscamos a substring contígua mais longa que seja palíndroma. O problema aparece em compressão, bioinformática e validação de entradas.\n",
        "\n",
        "Há três famílias de soluções: força bruta (`O(n^3)`), expansão em torno de centros (`O(n^2)`), e Manacher (`O(n)`). Este notebook mostra a expansão de centros como baseline, a implementação completa de Manacher e uma versão pythonizada para quem prioriza legibilidade.\n"
      ]
    },
    {
      "cell_type": "markdown",
      "id": "2ccb950c",
      "metadata": {},
      "source": [
        "### Newbie (expandir centros)\n",
        "\n",
        "Cada palíndromo pode ser visto como expandindo a partir de um centro (um caractere para ímpares ou o meio de dois caracteres para pares).\n",
        "\n",
        "**Passos principais**\n",
        "1. Para cada índice `i`, expandir em torno de `(i, i)` e `(i, i+1)`.\n",
        "2. A função `expand` desce à esquerda e sobe à direita enquanto os caracteres coincidirem.\n",
        "3. Guardar a melhor janela vista.\n",
        "\n",
        "**Complexidade:** tempo `O(n^2)`; espaço `O(1)`.\n"
      ]
    },
    {
      "cell_type": "code",
      "execution_count": 52,
      "id": "063859b6",
      "metadata": {},
      "outputs": [],
      "source": [
        "\n",
        "def longest_pal_substring_newbie(s: str) -> str:\n",
        "    if not s: return \"\"\n",
        "    def expand(l,r):\n",
        "        while l>=0 and r<len(s) and s[l]==s[r]:\n",
        "            l-=1; r+=1\n",
        "        return l+1, r\n",
        "    best=(0,1)\n",
        "    for i in range(len(s)):\n",
        "        l1,r1=expand(i,i)\n",
        "        l2,r2=expand(i,i+1)\n",
        "        if r1-l1>r2-l2 and r1-l1>best[1]-best[0]: best=(l1,r1)\n",
        "        elif r2-l2>best[1]-best[0]: best=(l2,r2)\n",
        "    return s[best[0]:best[1]]\n"
      ]
    },
    {
      "cell_type": "markdown",
      "id": "df309568",
      "metadata": {},
      "source": [
        "### Fodona (Manacher)\n",
        "\n",
        "Manacher transforma a string em outra com sentinelas (`^`, `#`, `$`) para tratar palíndromos pares e ímpares de forma uniforme. O vetor `p[i]` guarda o raio máximo do palíndromo centrado em `i` na string transformada.\n",
        "\n",
        "**Intuição:** ao processar `i`, usamos simetria em torno do centro atual `c`. Se já conhecemos um palíndromo que se estende até `r`, podemos copiar o valor espelhado `p[mir]` (onde `mir = 2*c - i`) como ponto de partida. Daí seguimos expandindo apenas quando necessário.\n",
        "\n",
        "O resultado final é o palíndromo de maior raio encontrado. É o único algoritmo conhecido que resolve o problema em tempo linear `O(n)` com espaço `O(n)`.\n"
      ]
    },
    {
      "cell_type": "code",
      "execution_count": 53,
      "id": "e5ccdfd9",
      "metadata": {},
      "outputs": [],
      "source": [
        "\n",
        "def longest_pal_substring_manacher(s: str) -> str:\n",
        "    if not s: return \"\"\n",
        "    t=['^']\n",
        "    for ch in s: t+=['#',ch]\n",
        "    t+=['#','$']\n",
        "    n=len(t); p=[0]*n; c=r=0\n",
        "    for i in range(1,n-1):\n",
        "        mir=2*c-i\n",
        "        if i<r: p[i]=min(r-i,p[mir])\n",
        "        while t[i+1+p[i]]==t[i-1-p[i]]: p[i]+=1\n",
        "        if i+p[i]>r: c,r=i,i+p[i]\n",
        "    max_len=center=max((p[i],i) for i in range(1,n-1))\n",
        "    start=(center-max_len)//2\n",
        "    return s[start:start+max_len]\n"
      ]
    },
    {
      "cell_type": "markdown",
      "id": "154b9c01",
      "metadata": {},
      "source": [
        "### Pythônica apelona (compacta de centros)\n",
        "\n",
        "Versão reduzida da expansão de centros, priorizando clareza: iteramos pelos índices, tentamos os dois tipos de centro e atualizamos uma substring candidata.\n",
        "\n",
        "**Complexidade:** tempo `O(n^2)`; espaço `O(1)`.\n"
      ]
    },
    {
      "cell_type": "code",
      "execution_count": 54,
      "id": "99d5c6f5",
      "metadata": {},
      "outputs": [],
      "source": [
        "\n",
        "def longest_pal_substring_pythonica(s: str) -> str:\n",
        "    best=\"\"\n",
        "    for i in range(len(s)):\n",
        "        for a,b in ((i,i),(i,i+1)):\n",
        "            l,r=a,b\n",
        "            while l>=0 and r<len(s) and s[l]==s[r]:\n",
        "                if r-l+1>len(best): best=s[l:r+1]\n",
        "                l-=1; r+=1\n",
        "    return best\n"
      ]
    },
    {
      "cell_type": "markdown",
      "id": "ba236d9c",
      "metadata": {},
      "source": [
        "## 8) Menor janela contendo `t` em `s`\n",
        "\n",
        "Dadas duas strings `s` e `t`, queremos a menor janela em `s` que contenha todos os caracteres de `t` (respeitando multiplicidades). É outra aplicação prototípica de janela deslizante com mapa de frequências.\n",
        "\n",
        "Exemplo: `s = \"ADOBECODEBANC\"` e `t = \"ABC\"` produzem \"BANC\". Essa técnica aparece em buscas por padrões, análise de logs e problemas de DNA.\n"
      ]
    },
    {
      "cell_type": "markdown",
      "id": "f8205e39",
      "metadata": {},
      "source": [
        "### Fodona (janela)\n",
        "\n",
        "A solução ótima usa janela deslizante com mapa de contagem. Mantemos `need[ch]` positivo enquanto ainda falta consumir aquele caractere.\n",
        "\n",
        "**Dinâmica:** expandimos `j` e diminuímos `missing` quando um caractere ainda é necessário. Assim que `missing == 0`, tentamos contrair `i` para encurtar a janela, atualizando a melhor resposta.\n",
        "\n",
        "**Complexidade:** tempo `O(n)`; espaço `O(k)` onde `k` é o número de caracteres distintos de `t`.\n"
      ]
    },
    {
      "cell_type": "code",
      "execution_count": 55,
      "id": "1aedde7a",
      "metadata": {},
      "outputs": [],
      "source": [
        "\n",
        "def min_window(s: str, t: str) -> str:\n",
        "    if not s or not t: return \"\"\n",
        "    need={}\n",
        "    for ch in t: need[ch]=need.get(ch,0)+1\n",
        "    missing=len(t); i=start=end=0\n",
        "    for j,ch in enumerate(s,1):\n",
        "        if need.get(ch,0)>0: missing-=1\n",
        "        need[ch]=need.get(ch,0)-1\n",
        "        while missing==0:\n",
        "            if end==0 or j-i<end-start: start,end=i,j\n",
        "            need[s[i]]=need.get(s[i],0)+1\n",
        "            if need[s[i]]>0: missing+=1\n",
        "            i+=1\n",
        "    return s[start:end]\n"
      ]
    },
    {
      "cell_type": "markdown",
      "id": "2792ce23",
      "metadata": {},
      "source": [
        "### Newbie (brute force educativo)\n",
        "\n",
        "Ótima para explicar por que a janela deslizante é necessária. Enumeramos todas as substrings e verificamos se cobrem `t`.\n",
        "\n",
        "**Complexidade:** tempo `O(n^2·k)` (há `O(n^2)` substrings e cada verificação custa `O(k)`); espaço `O(k)` para o mapa auxiliar.\n"
      ]
    },
    {
      "cell_type": "code",
      "execution_count": 56,
      "id": "67353fb7",
      "metadata": {},
      "outputs": [],
      "source": [
        "\n",
        "def min_window_newbie(s: str, t: str) -> str:\n",
        "    if not s or not t: return \"\"\n",
        "    def covers(a: str, t: str) -> bool:\n",
        "        need={}\n",
        "        for ch in t: need[ch]=need.get(ch,0)+1\n",
        "        for ch in a:\n",
        "            if need.get(ch,0)>0: need[ch]-=1\n",
        "        return all(v==0 for v in need.values())\n",
        "    best=\"\"\n",
        "    for i in range(len(s)):\n",
        "        for j in range(i+1,len(s)+1):\n",
        "            sub=s[i:j]\n",
        "            if (not best or len(sub)<len(best)) and covers(sub,t):\n",
        "                best=sub\n",
        "    return best\n"
      ]
    },
    {
      "cell_type": "markdown",
      "id": "3b9f96e3",
      "metadata": {},
      "source": [
        "### Pythônica apelona (Counter)\n",
        "\n",
        "Mesma lógica da janela otimizando a legibilidade com `Counter`. `need = Counter(t)` inicializa a demanda e o restante do algoritmo espelha a versão fodona.\n",
        "\n",
        "**Complexidade:** tempo `O(n)`; espaço `O(k)`.\n"
      ]
    },
    {
      "cell_type": "code",
      "execution_count": 57,
      "id": "0d2aa6de",
      "metadata": {},
      "outputs": [],
      "source": [
        "\n",
        "from collections import Counter\n",
        "def min_window_pythonica(s: str, t: str) -> str:\n",
        "    need=Counter(t); missing=len(t)\n",
        "    i=start=end=0\n",
        "    for j,ch in enumerate(s,1):\n",
        "        if need[ch]>0: missing-=1\n",
        "        need[ch]-=1\n",
        "        while missing==0:\n",
        "            if end==0 or j-i<end-start: start,end=i,j\n",
        "            need[s[i]]+=1\n",
        "            if need[s[i]]>0: missing+=1\n",
        "            i+=1\n",
        "    return s[start:end]\n"
      ]
    },
    {
      "cell_type": "markdown",
      "id": "a010e550",
      "metadata": {},
      "source": [
        "## 9) Decodificar `\"3[a2[c]]\"`\n",
        "\n",
        "A string de entrada usa uma gramática do tipo `k[substring]`, possivelmente aninhada, significando \"repita `substring` `k` vezes\". Precisamos reconstruir a string decodificada.\n",
        "\n",
        "É um ótimo exercício de pilhas: cada `[` empilha o estado atual e cada `]` desempilha, combinando contagem e fragmentos parciais. A solução correta lida com números de vários dígitos, recursão implícita via pilha e concatenação eficiente.\n"
      ]
    },
    {
      "cell_type": "markdown",
      "id": "e4a50b64",
      "metadata": {},
      "source": [
        "### Fodona (pilhas)\n",
        "\n",
        "Usamos duas pilhas: uma para contagens (`num_st`) e outra para strings parciais (`str_st`). Sempre que aparece um dígito, acumulamos em `k`. Ao ver `[` empilhamos `k` e o prefixo atual; ao ver `]` repetimos o bloco corrente `rep` vezes e concatenamos com o prefixo anterior.\n",
        "\n",
        "**Exemplo:** `\"3[a2[c]]\"` → empilha `3` e `\"\"`, processa `a`, empilha `2` ao encontrar `[`, monta `\"cc\"`, desempilha e concatena resultando em `\"accaccacc\"`.\n",
        "\n",
        "**Complexidade:** tempo `O(n)`; espaço `O(n)` para armazenar estados intermediários em entradas muito aninhadas.\n"
      ]
    },
    {
      "cell_type": "code",
      "execution_count": 58,
      "id": "15ca7be8",
      "metadata": {},
      "outputs": [],
      "source": [
        "\n",
        "def decode_string(s: str) -> str:\n",
        "    num_st, str_st = [], []\n",
        "    cur=[]; k=0\n",
        "    for ch in s:\n",
        "        if ch.isdigit():\n",
        "            k=k*10+(ord(ch)-48)\n",
        "        elif ch=='[':\n",
        "            num_st.append(k); str_st.append(cur); k=0; cur=[]\n",
        "        elif ch==']':\n",
        "            rep=num_st.pop(); prev=str_st.pop()\n",
        "            cur = prev + cur*rep\n",
        "        else:\n",
        "            cur.append(ch)\n",
        "    return \"\".join(cur)\n"
      ]
    },
    {
      "cell_type": "markdown",
      "id": "9d81aa4d",
      "metadata": {},
      "source": [
        "## 10) Distância de edição (Levenshtein)\n",
        "\n",
        "Levenshtein mede o menor número de operações para transformar uma string em outra usando inserção, deleção e substituição. É pilar em autocorretores, comparação de DNA e análise dif.\n",
        "\n",
        "A forma iterativa mais conhecida usa programação dinâmica: montamos uma tabela onde `dp[i][j]` representa a distância entre os prefixos `a[:i]` e `b[:j]`. A tabela pode ser comprimida para duas linhas, reduzindo o uso de memória sem perder tempo assintótico (`O(n·m)`).\n"
      ]
    },
    {
      "cell_type": "markdown",
      "id": "497194d6",
      "metadata": {},
      "source": [
        "### Newbie (tabela completa)\n",
        "\n",
        "Construímos uma matriz `(n+1) x (m+1)` onde cada célula `dp[i][j]` guarda a menor distância entre os prefixos `a[:i]` e `b[:j]`. Os casos base representam converter string vazia em prefixos via inserções ou deleções.\n",
        "\n",
        "**Recorrência:**\n",
        "- Inserção: `dp[i][j-1] + 1`\n",
        "- Remoção: `dp[i-1][j] + 1`\n",
        "- Substituição ou match: `dp[i-1][j-1] + (a[i-1] != b[j-1])`\n",
        "\n",
        "O valor final está em `dp[n][m]`.\n",
        "\n",
        "**Complexidade:** tempo `O(n·m)`; espaço `O(n·m)`.\n"
      ]
    },
    {
      "cell_type": "code",
      "execution_count": 59,
      "id": "f2ff9383",
      "metadata": {},
      "outputs": [],
      "source": [
        "\n",
        "def edit_distance_newbie(a: str, b: str) -> int:\n",
        "    n,m=len(a),len(b)\n",
        "    dp=[[0]*(m+1) for _ in range(n+1)]\n",
        "    for i in range(n+1): dp[i][0]=i\n",
        "    for j in range(m+1): dp[0][j]=j\n",
        "    for i in range(1,n+1):\n",
        "        for j in range(1,m+1):\n",
        "            cost=0 if a[i-1]==b[j-1] else 1\n",
        "            dp[i][j]=min(dp[i-1][j]+1, dp[i][j-1]+1, dp[i-1][j-1]+cost)\n",
        "    return dp[n][m]\n"
      ]
    },
    {
      "cell_type": "markdown",
      "id": "22061a39",
      "metadata": {},
      "source": [
        "### Fodona (duas linhas)\n",
        "\n",
        "Observação central: para preencher a linha `i` da tabela só precisamos da linha `i-1` e da linha atual. Assim, armazenamos apenas dois vetores, reaproveitando memória.\n",
        "\n",
        "**Complexidade:** tempo `O(n·m)`; espaço `O(min(n, m))`, pois sempre iteramos pela string mais curta na dimensão de colunas.\n"
      ]
    },
    {
      "cell_type": "code",
      "execution_count": 60,
      "id": "03ecde00",
      "metadata": {},
      "outputs": [],
      "source": [
        "\n",
        "def edit_distance_fodona(a: str, b: str) -> int:\n",
        "    if len(a) < len(b): a,b=b,a\n",
        "    prev=list(range(len(b)+1))\n",
        "    for i,ca in enumerate(a,1):\n",
        "        cur=[i]\n",
        "        for j,cb in enumerate(b,1):\n",
        "            cost=0 if ca==cb else 1\n",
        "            cur.append(min(prev[j]+1, cur[j-1]+1, prev[j-1]+cost))\n",
        "        prev=cur\n",
        "    return prev[-1]\n"
      ]
    },
    {
      "cell_type": "markdown",
      "id": "52f5b7fb",
      "metadata": {},
      "source": [
        "### Pythônica apelona\n",
        "\n",
        "Não há builtin de Levenshtein no Python padrão. O que podemos fazer durante uma entrevista é negociar o uso de bibliotecas externas (por exemplo, `python-Levenshtein`) ou reaproveitar a versão otimizada de duas linhas mostrada aqui. Reforce o raciocínio: se o avaliador pede algo \"idiomático\", mostre que já chegamos ao limite teórico com a implementação anterior.\n"
      ]
    },
    {
      "cell_type": "code",
      "execution_count": 61,
      "id": "093b23c5",
      "metadata": {},
      "outputs": [],
      "source": [
        "\n",
        "# Não há builtin — a versão 'fodona' já é ideal em Python puro.\n"
      ]
    },
    {
      "cell_type": "markdown",
      "id": "e550f6f5",
      "metadata": {},
      "source": [
        "\n",
        "---\n",
        "## Perguntas típicas e como responder\n",
        "\n",
        "- **Por que sua solução é `O(n)`?**  \n",
        "  Explico que percorro cada caractere no máximo `k` vezes e mantenho mapas de tamanho limitado.\n",
        "\n",
        "- **Pode otimizar espaço?**  \n",
        "  Sim — duas pontas (O(1)) ou DP em duas linhas para Levenshtein.\n",
        "\n",
        "- **E Unicode?**  \n",
        "  Trocar array fixo por `dict` e considerar `casefold()`. Para remoção de acentos, normalizar com `unicodedata` (se permitido).\n",
        "\n",
        "- **Edge cases?**  \n",
        "  Strings vazias, um caractere, todos iguais, padrão no início/fim, entradas grandes.\n"
      ]
    }
  ],
  "metadata": {
    "kernelspec": {
      "display_name": "fastapi-playground (3.12.11)",
      "language": "python",
      "name": "python3"
    },
    "language_info": {
      "codemirror_mode": {
        "name": "ipython",
        "version": 3
      },
      "file_extension": ".py",
      "mimetype": "text/x-python",
      "name": "python",
      "nbconvert_exporter": "python",
      "pygments_lexer": "ipython3",
      "version": "3.12.11"
    }
  },
  "nbformat": 4,
  "nbformat_minor": 5
}